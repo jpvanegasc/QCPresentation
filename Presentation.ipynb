{
 "metadata": {
  "language_info": {
   "codemirror_mode": {
    "name": "ipython",
    "version": 3
   },
   "file_extension": ".py",
   "mimetype": "text/x-python",
   "name": "python",
   "nbconvert_exporter": "python",
   "pygments_lexer": "ipython3",
   "version": 3
  },
  "orig_nbformat": 2
 },
 "nbformat": 4,
 "nbformat_minor": 2,
 "cells": [
  {
   "source": [
    "# Solución del problema de las luces usando el algoritmo de Grover\n",
    "\n",
    "### Juan Bernardo Benavides y Juan Pablo Vanegas\n",
    "\n",
    "---\n",
    "\n",
    "## Outline:\n",
    "1. El problema de las luces\n",
    "2. Algoritmo de Grover\n",
    "3. Desarrollo en Qiskit\n",
    "4. RAM y QRAM\n",
    "5. Solución (acá va lo del 2a)\n",
    "6. Solución (acá va lo del 2b)"
   ],
   "cell_type": "markdown",
   "metadata": {}
  },
  {
   "source": [
    "## El problema de las luces\n",
    "\n",
    "Imaginemos una casa embrujada(?) con muchos cuartos. Si cada vez que muevo un switch de luz hay un fantasma que mueve los switches de los cuartos vecinos, ¿cómo puedo grantizar que apago (o enciendo) las luces de toda la casa?. \n",
    "\n",
    "Una forma de simplificar este problema es considerar un Lattice, en donde cada celda puede contener un dígito binario, y cada vez que cambio el contenido de una celda, las celdas vecinas cambian su contenido, de acuerdo a la figura 1:\n",
    "\n",
    "[figura 1]\n",
    "\n",
    "El problema de las luces consiste en encontrar una serie de pasos en la que pueda dejar todos los elementos del lattice en el mismo estado.\n"
   ],
   "cell_type": "markdown",
   "metadata": {}
  },
  {
   "source": [
    "## Algoritmo de Grover\n",
    "Es un algorismo lo más de útil porque superposición y cosas"
   ],
   "cell_type": "markdown",
   "metadata": {}
  },
  {
   "source": [
    "## Desarrollo en Qiskit\n",
    "\n",
    "Qiskit es una librería de python que permite hacer simulaciones de sistemas cuánticos y pues es muy chévere."
   ],
   "cell_type": "markdown",
   "metadata": {}
  },
  {
   "cell_type": "code",
   "execution_count": null,
   "metadata": {},
   "outputs": [],
   "source": [
    "import qiskit\n",
    "# todo lo demás, me dio pereza buscar ahorita"
   ]
  },
  {
   "source": [
    "Qiskit nos permite construir un circuito cuantico, y hacer todo lo que ya sabemos hacer, pero de verdad:"
   ],
   "cell_type": "markdown",
   "metadata": {}
  },
  {
   "cell_type": "code",
   "execution_count": null,
   "metadata": {},
   "outputs": [],
   "source": [
    "# declarar un circuito con cosa cuantica y cosa clásica\n",
    "\n",
    "# añadir compuertas\n",
    "\n",
    "# ver el circuito"
   ]
  },
  {
   "cell_type": "code",
   "execution_count": null,
   "metadata": {},
   "outputs": [],
   "source": [
    "# simular y ver los resultados"
   ]
  },
  {
   "source": [
    "## RAM y QRAM\n",
    "### RAM\n",
    "La RAM (Random Access Memory) es la memoria inmediata del computador. Algo así como la memoria a corto plazo de las personas. \n",
    "\n",
    "Carreta\n",
    "\n",
    "Carreta\n",
    "\n",
    "### QRAM\n",
    "¿Y si seguimos en la analogía de no acabar entre clásico y cuántico? ¡Hagamos una RAM cuántica!\n",
    "\n",
    "Carreta"
   ],
   "cell_type": "markdown",
   "metadata": {}
  },
  {
   "cell_type": "code",
   "execution_count": null,
   "metadata": {},
   "outputs": [],
   "source": [
    "# implementacion en qiskit de la qram"
   ]
  },
  {
   "source": [
    "Carreta"
   ],
   "cell_type": "markdown",
   "metadata": {}
  }
 ]
}