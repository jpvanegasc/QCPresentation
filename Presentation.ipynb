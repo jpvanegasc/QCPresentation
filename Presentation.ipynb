{
 "cells": [
  {
   "cell_type": "markdown",
   "metadata": {},
   "source": [
    "# Solución del problema de las luces usando el algoritmo de Grover\n",
    "\n",
    "**Juan Bernardo Benavides y Juan Pablo Vanegas**\n",
    "\n",
    "---\n",
    "\n",
    "En este momento, ya algunos compañeros nos han presentado que es qiskit y cómo funciona. En el curso hemos hablado de algunos algoritmos cuánticos y en partícular hemos visto ya en varias ocaciones como funciona el algoritmo de Grover. Sin embargo, hasta ahora no hemos aprovechado la computación cuántica ni las herramientas que nos da IBM para resolver un problema de verdad. Es decir, hasta ahora los planteamientos que hemos hecho del algorítmo de Grover se han enfocado en ver como funciona y probarlo dentro del contexto de un problema de mentiritas en el que ya previamente conocemos la solución. El objetivo el día de hoy es poder ver este algorítmo aplicado en un problema cuya solución no conocemos. \n",
    "\n",
    "Iniciamos entonces presentando el problema que queremos solucionar. Este sigue siendo un problema bastante sencillo y que realmente no requiere del uso de la computación cuántica para resolverse, pero nos aporta una forma muy clara de como se puede aplicar el algorítmo de grover en problemas reales cuya solución no conocemos previamente. \n",
    "\n",
    "Entender esto es **fundamental** ya que no importa que tan eficiente sea, un método que requiera conocer la solución al problema que busca solucionar, no sirve para **nada**.\n",
    "\n",
    "## Outline:\n",
    "\n",
    "1. [El problema de las luces](#El-problema-de-las-luces)\n",
    "2. [Recapitulando](#Recapitulando)\n",
    "    1. [Desarrollo en Qiskit](#Desarrollo-en-Qiskit)\n",
    "    2. [Algorítmo de Grover](#Algoritmo-de-Grover)\n",
    "3. [Oraculos]()\n",
    "4. Solución (acá va lo del 2a)\n",
    "5. RAM y QRAM\n",
    "6. Grover Inception.\n",
    "7. Solución (acá va lo del 2b)"
   ]
  },
  {
   "cell_type": "markdown",
   "metadata": {},
   "source": [
    "## El problema de las luces\n",
    "\n",
    "Imaginemos una casa embrujada(?) con muchos cuartos. Si cada vez que muevo un switch de luz hay un fantasma que mueve los switches de los cuartos vecinos, ¿cómo puedo grantizar que apago (o enciendo) las luces de toda la casa?. \n",
    "\n",
    "Una forma de simplificar este problema es considerar un Lattice, en donde cada celda puede contener un dígito binario, y cada vez que cambio el contenido de una celda, las celdas vecinas cambian su contenido, de acuerdo a la figura 1:\n",
    "\n",
    "[figura 1]\n",
    "\n",
    "El problema de las luces consiste en encontrar una serie de pasos en la que pueda dejar todos los elementos del lattice en el mismo estado.\n"
   ]
  },
  {
   "cell_type": "markdown",
   "metadata": {},
   "source": [
    "## Algoritmo de Grover\n",
    "Es un algorismo lo más de útil porque superposición y cosas"
   ]
  },
  {
   "cell_type": "markdown",
   "metadata": {},
   "source": [
    "## Desarrollo en Qiskit\n",
    "\n",
    "Qiskit es una librería de python que permite hacer simulaciones de sistemas cuánticos y pues es muy chévere."
   ]
  },
  {
   "cell_type": "code",
   "execution_count": 1,
   "metadata": {},
   "outputs": [],
   "source": [
    "from qiskit import *\n",
    "from qiskit import QuantumRegister, ClassicalRegister, QuantumCircuit\n",
    "from qiskit import Aer, execute\n",
    "import numpy as np\n",
    "\n",
    "from qiskit.tools.visualization import plot_histogram"
   ]
  },
  {
   "cell_type": "markdown",
   "metadata": {},
   "source": [
    "Qiskit nos permite construir un circuito cuantico, y hacer todo lo que ya sabemos hacer, pero de verdad:"
   ]
  },
  {
   "cell_type": "code",
   "execution_count": 2,
   "metadata": {},
   "outputs": [
    {
     "data": {
      "image/png": "[encoded data removed]",
      "text/plain": [
       "<Figure size 280.033x204.68 with 1 Axes>"
      ]
     },
     "execution_count": 2,
     "metadata": {},
     "output_type": "execute_result"
    }
   ],
   "source": [
    "# Crear un circuito con dos qbits y un bit\n",
    "q = QuantumRegister(2)\n",
    "c = ClassicalRegister(1)\n",
    "qc = QuantumCircuit(q, c)\n",
    "\n",
    "# Compuertas\n",
    "qc.h(q[0])\n",
    "qc.cx(q[0], q[1])\n",
    "\n",
    "# Medicion\n",
    "qc.measure(q[1], c[0])\n",
    "\n",
    "qc.draw(output=\"mpl\")\n"
   ]
  },
  {
   "cell_type": "code",
   "execution_count": 3,
   "metadata": {},
   "outputs": [
    {
     "name": "stdout",
     "output_type": "stream",
     "text": [
      "{'0': 495, '1': 505}\n"
     ]
    },
    {
     "data": {
      "image/png": "[encoded data removed]",
      "text/plain": [
       "<Figure size 504x360 with 1 Axes>"
      ]
     },
     "execution_count": 3,
     "metadata": {},
     "output_type": "execute_result"
    }
   ],
   "source": [
    "# simular y ver los resultados\n",
    "backend = Aer.get_backend('qasm_simulator')\n",
    "job = execute(qc, backend, shots=1000)\n",
    "result = job.result()\n",
    "count = result.get_counts()\n",
    "print(count)\n",
    "plot_histogram(count)\n"
   ]
  },
  {
   "cell_type": "code",
   "execution_count": 4,
   "metadata": {},
   "outputs": [
    {
     "name": "stdout",
     "output_type": "stream",
     "text": [
      "{'0': 486, '1': 514}\n"
     ]
    },
    {
     "data": {
      "image/png": "[encoded data removed]",
      "text/plain": [
       "<Figure size 504x360 with 1 Axes>"
      ]
     },
     "execution_count": 4,
     "metadata": {},
     "output_type": "execute_result"
    }
   ],
   "source": [
    "backend = Aer.get_backend('qasm_simulator')\n",
    "job = execute(qc, backend, shots=1000)\n",
    "result = job.result()\n",
    "count = result.get_counts()\n",
    "print(count)\n",
    "plot_histogram(count)"
   ]
  },
  {
   "cell_type": "markdown",
   "metadata": {},
   "source": [
    "## RAM y QRAM\n",
    "### RAM\n",
    "La RAM (Random Access Memory) es la memoria inmediata del computador. Algo así como la memoria a corto plazo de las personas. \n",
    "\n",
    "Carreta\n",
    "\n",
    "Carreta\n",
    "\n",
    "### QRAM\n",
    "¿Y si seguimos en la analogía de no acabar entre clásico y cuántico? ¡Hagamos una RAM cuántica!\n",
    "\n",
    "Carreta\n",
    "\n",
    "### Del challenge\n",
    "In classical computers, RAM (Random Access Memory) is a type of volatile memory that has memory addresses $j$ and stores binary data corresponding to each address $D_j$.\n",
    "\n",
    "In the case of [qRAM](https://arxiv.org/abs/0708.1879) in a quantum computer, address qubits $a$ have the $N$-addresses as superposition and the corresponding binary data is stored in data qubits $d$ as a state vector.\n",
    "\n",
    "\\begin{equation}\n",
    "    \\sum_{j}\\frac{1}{\\sqrt{N}}\\vert j \\rangle_{a}\\vert 0 \\rangle_{d}\\xrightarrow{qRAM}\\sum_{j}\\frac{1}{\\sqrt{N}}\\vert j \\rangle_{a}\\vert D_{j} \\rangle_{d}\n",
    "\\end{equation}\n",
    "\n",
    "We call the right-hand side state \"qRAM\" and the corresponding gate operation \"qRAM operation\".\n",
    "\n",
    "Although qRAM operation requires $\\mathcal{O}(N\\log N)$ gates, it can be used to create superposition states of binary data intuitively.  \n",
    "\n",
    "qRAM has previously been applied to various quantum machine learning algorithms such as the HHL algorithm. For this problem, let's apply qRAM to Grover's algorithm."
   ]
  },
  {
   "cell_type": "code",
   "execution_count": null,
   "metadata": {},
   "outputs": [],
   "source": [
    "# implementacion en qiskit de la qram"
   ]
  },
  {
   "cell_type": "markdown",
   "metadata": {},
   "source": [
    "Carreta"
   ]
  },
  {
   "cell_type": "code",
   "execution_count": 5,
   "metadata": {},
   "outputs": [
    {
     "data": {
      "text/plain": [
       "{'qiskit-terra': '0.16.1',\n",
       " 'qiskit-aer': '0.7.1',\n",
       " 'qiskit-ignis': '0.5.1',\n",
       " 'qiskit-ibmq-provider': '0.11.1',\n",
       " 'qiskit-aqua': '0.8.1',\n",
       " 'qiskit': '0.23.1'}"
      ]
     },
     "execution_count": 5,
     "metadata": {},
     "output_type": "execute_result"
    }
   ],
   "source": [
    "qiskit.__qiskit_version__"
   ]
  }
 ],
 "metadata": {
  "kernelspec": {
   "display_name": "Python 3",
   "language": "python",
   "name": "python3"
  },
  "language_info": {
   "codemirror_mode": {
    "name": "ipython",
    "version": 3
   },
   "file_extension": ".py",
   "mimetype": "text/x-python",
   "name": "python",
   "nbconvert_exporter": "python",
   "pygments_lexer": "ipython3",
   "version": "3.8.5"
  }
 },
 "nbformat": 4,
 "nbformat_minor": 2
}
